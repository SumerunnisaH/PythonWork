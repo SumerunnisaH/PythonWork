{
 "cells": [
  {
   "attachments": {},
   "cell_type": "markdown",
   "metadata": {},
   "source": [
    "# MUNEERUNNISA M, Saalima Gowher, & Syed Zaid Ahmed\n",
    "# Thinklabz Trainees\n",
    "# 2022 batch\n",
    "# Group Project\n",
    "\n",
    "# About Project:"
   ]
  },
  {
   "cell_type": "code",
   "execution_count": null,
   "metadata": {},
   "outputs": [],
   "source": [
    "## Main Project:(Chocolate  Preference)\n",
    "We have done a team project.\n",
    "Chocolate is one of the most popular food items worldwide, and there are countless brands available in the market.\n",
    "A survey was conducted to understand people's preferences and ratings for chocolate brands. \n",
    "This survey collected data on various chocolate brands and their ratings based on people's interests.\n",
    "The data was then analysed to understand the most popular chocolate brands, factors influencing people's choices, and other insights related to chocolate consumption habits.\n",
    "We discussed with psychologists to prepare a set of questions. We had multiple discussions with them. \n",
    "\n",
    "Here the link of web app is available which hosted in Internet\n",
    "https://muniraghouse-chocolate-prefer-final-f1-bkyfcm.streamlit.app/\n",
    "### Github link:\n",
    "https://github.com/muniraghouse/chocolate_Prefer"
   ]
  },
  {
   "cell_type": "markdown",
   "metadata": {},
   "source": []
  }
 ],
 "metadata": {
  "language_info": {
   "name": "python"
  },
  "orig_nbformat": 4
 },
 "nbformat": 4,
 "nbformat_minor": 2
}
